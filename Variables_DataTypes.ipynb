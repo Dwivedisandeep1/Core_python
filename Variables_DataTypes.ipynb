{
 "cells": [
  {
   "cell_type": "code",
   "execution_count": 1,
   "id": "7eabf1d9",
   "metadata": {},
   "outputs": [
    {
     "name": "stdout",
     "output_type": "stream",
     "text": [
      "666\n"
     ]
    }
   ],
   "source": [
    "print(666)"
   ]
  },
  {
   "cell_type": "code",
   "execution_count": 2,
   "id": "a0f70021",
   "metadata": {},
   "outputs": [
    {
     "name": "stdout",
     "output_type": "stream",
     "text": [
      "India\n"
     ]
    }
   ],
   "source": [
    "print(\"India\")"
   ]
  },
  {
   "cell_type": "code",
   "execution_count": 3,
   "id": "8c12e00a",
   "metadata": {},
   "outputs": [
    {
     "name": "stdout",
     "output_type": "stream",
     "text": [
      "999\n"
     ]
    }
   ],
   "source": [
    "print(999)"
   ]
  },
  {
   "cell_type": "markdown",
   "id": "03f80ecf",
   "metadata": {},
   "source": [
    "integer : 10,9,0,1000\n",
    "float : 62.26,25.44,10.23,10.00\n",
    "string: Anythinf in (\"\",'')\n",
    "boolean : True , False\n",
    "\n",
    "a = 10 # Assigning Value\n",
    "10 ==10 # Comparing Value"
   ]
  },
  {
   "cell_type": "code",
   "execution_count": 11,
   "id": "37a34a10",
   "metadata": {},
   "outputs": [
    {
     "name": "stdout",
     "output_type": "stream",
     "text": [
      "1\n",
      "8\n",
      "15\n",
      "22\n"
     ]
    }
   ],
   "source": [
    "num = []\n",
    "for i in range(1,25,7):\n",
    "    num.append(i)\n",
    "    print(i)"
   ]
  },
  {
   "cell_type": "code",
   "execution_count": 15,
   "id": "05a01999",
   "metadata": {},
   "outputs": [],
   "source": [
    "# Complex Numbers = Realpart + Imaginary part = 2+3j"
   ]
  },
  {
   "cell_type": "markdown",
   "id": "b1db1a31",
   "metadata": {},
   "source": [
    "Tuple :- Tuple is an ordered collection of python objects.\n",
    "         The Difference between tuple and list is that tuples are immutable"
   ]
  },
  {
   "cell_type": "code",
   "execution_count": 23,
   "id": "21ae1337",
   "metadata": {},
   "outputs": [
    {
     "name": "stdout",
     "output_type": "stream",
     "text": [
      "('Nik', 8, 13, 'Nik')\n"
     ]
    }
   ],
   "source": [
    "stud_data_tuple = (\"Nik\",8,13,\"Nik\")\n",
    "print(stud_data_tuple)"
   ]
  },
  {
   "cell_type": "code",
   "execution_count": 25,
   "id": "25c2ddc9",
   "metadata": {},
   "outputs": [
    {
     "name": "stdout",
     "output_type": "stream",
     "text": [
      "['Nik', 8, 13, 'Nik']\n"
     ]
    }
   ],
   "source": [
    "# List\n",
    "stud_data_list = ['Nik',8,13,\"Nik\"]\n",
    "print(stud_data_list)"
   ]
  },
  {
   "cell_type": "markdown",
   "id": "3f658b52",
   "metadata": {},
   "source": [
    "### Type Conversion"
   ]
  },
  {
   "cell_type": "code",
   "execution_count": 27,
   "id": "3d31a4b1",
   "metadata": {},
   "outputs": [
    {
     "name": "stdout",
     "output_type": "stream",
     "text": [
      "22.9\n"
     ]
    }
   ],
   "source": [
    "# Implicit Conversion\n",
    "a = 10\n",
    "b = 12.9\n",
    "print(a+b)"
   ]
  },
  {
   "cell_type": "code",
   "execution_count": 32,
   "id": "d2b675c6",
   "metadata": {},
   "outputs": [
    {
     "name": "stdout",
     "output_type": "stream",
     "text": [
      "22.9\n"
     ]
    }
   ],
   "source": [
    "# Explicit Conversion\n",
    "a = \"10\"\n",
    "b=12.9\n",
    "print(int(a)+b)"
   ]
  },
  {
   "cell_type": "code",
   "execution_count": 37,
   "id": "d8b58125",
   "metadata": {},
   "outputs": [
    {
     "name": "stdout",
     "output_type": "stream",
     "text": [
      "1012.9\n"
     ]
    }
   ],
   "source": [
    "a = \"10\"\n",
    "b = 12.9\n",
    "print(a+str(b))"
   ]
  },
  {
   "cell_type": "code",
   "execution_count": 46,
   "id": "74f3bd58",
   "metadata": {},
   "outputs": [
    {
     "name": "stdout",
     "output_type": "stream",
     "text": [
      "abc103\n"
     ]
    }
   ],
   "source": [
    "s = 'abc'\n",
    "s1 = s + '103'\n",
    "print(s1)"
   ]
  },
  {
   "cell_type": "code",
   "execution_count": 50,
   "id": "30871081",
   "metadata": {},
   "outputs": [
    {
     "name": "stdout",
     "output_type": "stream",
     "text": [
      "Enter Your Name Sandeep Dwivedi\n",
      "Enter Your Age 21\n",
      "Sandeep Dwivedi has 29 Years For retiring\n"
     ]
    }
   ],
   "source": [
    "# HomeWork -- 1\n",
    "Staff_name = str(input('Enter Your Name '))\n",
    "Staff_age = int(input('Enter Your Age '))\n",
    "retirement_age = 50\n",
    "print(Staff_name,'has',(retirement_age - Staff_age),\"Years\",\"For retiring\")"
   ]
  },
  {
   "cell_type": "code",
   "execution_count": 58,
   "id": "40b0f6bc",
   "metadata": {},
   "outputs": [
    {
     "name": "stdout",
     "output_type": "stream",
     "text": [
      "Enter Your First Name 3\n",
      "Enter Your Last Name 3\n",
      "Enter Your Phone Number36\n",
      "Thanks!!! 3 3 Visit Us Soon\n"
     ]
    }
   ],
   "source": [
    "# HomeWork -- 2\n",
    "First_name = str(input('Enter Your First Name '))\n",
    "Last_name = str(input('Enter Your Last Name '))\n",
    "phoneNumber = int(input('Enter Your Phone Number'))\n",
    "\n",
    "print('Thanks!!!',(First_name +\" \"+Last_name),\"Visit Us Soon\")"
   ]
  },
  {
   "cell_type": "code",
   "execution_count": 1,
   "id": "1482579c",
   "metadata": {},
   "outputs": [
    {
     "name": "stdout",
     "output_type": "stream",
     "text": [
      "Enter The Number 18\n",
      "Enter The Number 35\n",
      "Values Before swapping 18 35\n",
      "Values After Swapping 35 18\n"
     ]
    }
   ],
   "source": [
    "# Homework--3\n",
    "a = int(input('Enter The Number ')) \n",
    "b = int(input('Enter The Number '))\n",
    "print('Values Before swapping',a,b)\n",
    "temp = a\n",
    "a = b\n",
    "b = temp\n",
    "print('Values After Swapping',a,b)"
   ]
  },
  {
   "cell_type": "code",
   "execution_count": 7,
   "id": "d626f3f3",
   "metadata": {},
   "outputs": [
    {
     "name": "stdout",
     "output_type": "stream",
     "text": [
      "10\n"
     ]
    }
   ],
   "source": [
    "a = 10\n",
    "print(a)\n",
    "# print(A)"
   ]
  },
  {
   "cell_type": "code",
   "execution_count": null,
   "id": "de25b46b",
   "metadata": {},
   "outputs": [],
   "source": [
    "                                               "
   ]
  },
  {
   "cell_type": "code",
   "execution_count": null,
   "id": "88e73391",
   "metadata": {},
   "outputs": [],
   "source": [
    "                                             "
   ]
  },
  {
   "cell_type": "code",
   "execution_count": null,
   "id": "c2ba195a",
   "metadata": {},
   "outputs": [],
   "source": [
    "                                               "
   ]
  },
  {
   "cell_type": "code",
   "execution_count": null,
   "id": "bb9c1328",
   "metadata": {},
   "outputs": [],
   "source": [
    "                                                                                 "
   ]
  }
 ],
 "metadata": {
  "kernelspec": {
   "display_name": "Python 3 (ipykernel)",
   "language": "python",
   "name": "python3"
  },
  "language_info": {
   "codemirror_mode": {
    "name": "ipython",
    "version": 3
   },
   "file_extension": ".py",
   "mimetype": "text/x-python",
   "name": "python",
   "nbconvert_exporter": "python",
   "pygments_lexer": "ipython3",
   "version": "3.11.5"
  }
 },
 "nbformat": 4,
 "nbformat_minor": 5
}
