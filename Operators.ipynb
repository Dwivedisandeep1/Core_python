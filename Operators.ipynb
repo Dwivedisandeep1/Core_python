{
 "cells": [
  {
   "cell_type": "markdown",
   "id": "59f6db09",
   "metadata": {},
   "source": [
    "1. Arithmetic Operators :- +,-,=,*\n",
    "2. Assignment Operators \n",
    "3. Comparison Operators\n",
    "4. Logical Operators\n",
    "5. Identity Operators\n",
    "6. Membership Operators\n",
    "7. Bitwise Operators"
   ]
  },
  {
   "cell_type": "code",
   "execution_count": 14,
   "id": "dad607bf",
   "metadata": {},
   "outputs": [
    {
     "name": "stdout",
     "output_type": "stream",
     "text": [
      "12\n",
      "3\n",
      "2.5\n",
      "9\n",
      "2\n",
      "8\n",
      "10\n"
     ]
    }
   ],
   "source": [
    "# Artithmetic Operators\n",
    "print(7+5) # Addition\n",
    "print(8-5) # Subtraction\n",
    "print(5/2) # Divison\n",
    "print(3*3) # Multiplication\n",
    "print(5//2) # 1.Floor Division 2.Quotient:- Remove Decimal Part\n",
    "print(2**3) # Power Multiplication\n",
    "print(1000%22) # Remainder Value"
   ]
  },
  {
   "cell_type": "code",
   "execution_count": 15,
   "id": "6e41e7e4",
   "metadata": {},
   "outputs": [],
   "source": [
    "# Assignment Operator"
   ]
  },
  {
   "cell_type": "code",
   "execution_count": 17,
   "id": "0b855955",
   "metadata": {},
   "outputs": [],
   "source": [
    "Operator      \n",
    "=             \n",
    "+=            \n",
    "-=            \n",
    "*=\n",
    "/=\n",
    "%=\n",
    "//=\n",
    "**=\n",
    "&=\n",
    "|=\n",
    "^=\n",
    ">>=\n",
    "<<="
   ]
  },
  {
   "cell_type": "code",
   "execution_count": 21,
   "id": "32b79b03",
   "metadata": {},
   "outputs": [
    {
     "name": "stdout",
     "output_type": "stream",
     "text": [
      "20\n",
      "15\n"
     ]
    }
   ],
   "source": [
    "a = 5\n",
    "b = 15\n",
    "a+=b\n",
    "print(a)"
   ]
  },
  {
   "cell_type": "code",
   "execution_count": 22,
   "id": "69a71090",
   "metadata": {},
   "outputs": [],
   "source": [
    "# Bitwise And and Assign"
   ]
  },
  {
   "cell_type": "code",
   "execution_count": 26,
   "id": "e891b631",
   "metadata": {},
   "outputs": [
    {
     "name": "stdout",
     "output_type": "stream",
     "text": [
      "15\n"
     ]
    }
   ],
   "source": [
    "a = 31\n",
    "b = 15\n",
    "a &= b\n",
    "print(a)"
   ]
  },
  {
   "cell_type": "code",
   "execution_count": 27,
   "id": "6bf7d8d6",
   "metadata": {},
   "outputs": [],
   "source": [
    "# Bitwise OR and Assign"
   ]
  },
  {
   "cell_type": "code",
   "execution_count": 33,
   "id": "51595c5d",
   "metadata": {},
   "outputs": [
    {
     "name": "stdout",
     "output_type": "stream",
     "text": [
      "7\n"
     ]
    }
   ],
   "source": [
    "a = 4\n",
    "b = 7\n",
    "a |= b\n",
    "print(a)"
   ]
  },
  {
   "cell_type": "code",
   "execution_count": 34,
   "id": "263810d6",
   "metadata": {},
   "outputs": [
    {
     "name": "stdout",
     "output_type": "stream",
     "text": [
      "15\n"
     ]
    }
   ],
   "source": [
    "a = 10\n",
    "b = 5 \n",
    "a|= b\n",
    "print(a)"
   ]
  },
  {
   "cell_type": "code",
   "execution_count": 35,
   "id": "c4df3626",
   "metadata": {},
   "outputs": [],
   "source": [
    "# Bitwise XOR and Assign"
   ]
  },
  {
   "cell_type": "code",
   "execution_count": 36,
   "id": "0ed2ad47",
   "metadata": {},
   "outputs": [
    {
     "name": "stdout",
     "output_type": "stream",
     "text": [
      "6\n"
     ]
    }
   ],
   "source": [
    "a = 3\n",
    "b = 5\n",
    "\n",
    "a ^= b\n",
    "print(a)"
   ]
  },
  {
   "cell_type": "code",
   "execution_count": 38,
   "id": "c2388779",
   "metadata": {},
   "outputs": [],
   "source": [
    "# Bitwise Right Shift and Assign"
   ]
  },
  {
   "cell_type": "code",
   "execution_count": 41,
   "id": "f8bc8c47",
   "metadata": {},
   "outputs": [
    {
     "name": "stdout",
     "output_type": "stream",
     "text": [
      "7\n",
      "3\n",
      "0\n"
     ]
    }
   ],
   "source": [
    "print(14>>1)\n",
    "print(14>>2)\n",
    "print(14>>4)"
   ]
  },
  {
   "cell_type": "code",
   "execution_count": 42,
   "id": "881420a9",
   "metadata": {},
   "outputs": [],
   "source": [
    "# Bitwise Left Shift and Assign"
   ]
  },
  {
   "cell_type": "code",
   "execution_count": 43,
   "id": "1ac46333",
   "metadata": {},
   "outputs": [
    {
     "name": "stdout",
     "output_type": "stream",
     "text": [
      "28\n"
     ]
    }
   ],
   "source": [
    "print(14<<1)"
   ]
  },
  {
   "cell_type": "code",
   "execution_count": 44,
   "id": "2bd7d25d",
   "metadata": {},
   "outputs": [
    {
     "name": "stdout",
     "output_type": "stream",
     "text": [
      "56\n"
     ]
    }
   ],
   "source": [
    "print(14<<2)"
   ]
  },
  {
   "cell_type": "code",
   "execution_count": 45,
   "id": "656d5fef",
   "metadata": {},
   "outputs": [],
   "source": [
    "# Python Comparison Operators"
   ]
  },
  {
   "cell_type": "code",
   "execution_count": 51,
   "id": "e615bfd7",
   "metadata": {},
   "outputs": [
    {
     "data": {
      "text/plain": [
       "'# Equal\\nx==y\\n#Not Equal\\nx!=y\\n# Greater than \\nx>y\\n# Less than\\nx<y\\n# Greater than or equal to\\nx>=y\\n# Less than or equal to\\nX<=y'"
      ]
     },
     "execution_count": 51,
     "metadata": {},
     "output_type": "execute_result"
    }
   ],
   "source": [
    "\"\"\"# Equal\n",
    "x==y\n",
    "#Not Equal\n",
    "x!=y\n",
    "# Greater than \n",
    "x>y\n",
    "# Less than\n",
    "x<y\n",
    "# Greater than or equal to\n",
    "x>=y\n",
    "# Less than or equal to\n",
    "X<=y\"\"\""
   ]
  },
  {
   "cell_type": "code",
   "execution_count": 52,
   "id": "8131fa81",
   "metadata": {},
   "outputs": [
    {
     "name": "stdout",
     "output_type": "stream",
     "text": [
      "False\n",
      "True\n",
      "True\n",
      "False\n",
      "True\n"
     ]
    }
   ],
   "source": [
    "x = 5\n",
    "y = 6\n",
    "print(x==y)\n",
    "print(x!=y)\n",
    "print(x<y)\n",
    "print(x>=y)\n",
    "print(x<=y)"
   ]
  },
  {
   "cell_type": "code",
   "execution_count": 58,
   "id": "4f8bb8b9",
   "metadata": {},
   "outputs": [
    {
     "name": "stdout",
     "output_type": "stream",
     "text": [
      "The Numbers are greater than 0\n",
      "Atleast one number is not greater than 0\n"
     ]
    }
   ],
   "source": [
    "a = 10\n",
    "b = 10\n",
    "c = -10\n",
    "\n",
    "if a > 0 and b> 0:\n",
    "    print('The Numbers are greater than 0')\n",
    "if a > 0 and b > 0 and c >0:\n",
    "    print('The Nummbers are greater than 0')\n",
    "else:\n",
    "    print(\"Atleast one number is not greater than 0\")"
   ]
  },
  {
   "cell_type": "code",
   "execution_count": 60,
   "id": "e6051a6d",
   "metadata": {},
   "outputs": [
    {
     "name": "stdout",
     "output_type": "stream",
     "text": [
      "The Numbers are greater than 0\n",
      "The Nummbers are greater than 0\n"
     ]
    }
   ],
   "source": [
    "if a > 0 or b> 0:\n",
    "    print('The Numbers are greater than 0')\n",
    "if a > 0 or b > 0 or c >0:\n",
    "    print('The Nummbers are greater than 0')\n",
    "else:\n",
    "    print(\"No number is greater than 0\")"
   ]
  },
  {
   "cell_type": "code",
   "execution_count": 63,
   "id": "2ff79c37",
   "metadata": {},
   "outputs": [
    {
     "name": "stdout",
     "output_type": "stream",
     "text": [
      "This will return False\n"
     ]
    }
   ],
   "source": [
    "a = 10\n",
    "if not a:\n",
    "    print(\"This Will return true\")\n",
    "else:\n",
    "    print(\"This will return False\")"
   ]
  },
  {
   "cell_type": "code",
   "execution_count": 62,
   "id": "c50e3c29",
   "metadata": {},
   "outputs": [
    {
     "name": "stdout",
     "output_type": "stream",
     "text": [
      "10 is divisble by either 3 or 5\n"
     ]
    }
   ],
   "source": [
    "if not (a%3 == 0 or a % 5 ==0):\n",
    "    print(\"10 is not divisible by either 3 or 5\")\n",
    "else:\n",
    "    print(\"10 is divisble by either 3 or 5\")"
   ]
  },
  {
   "cell_type": "code",
   "execution_count": null,
   "id": "b5347c65",
   "metadata": {},
   "outputs": [],
   "source": []
  }
 ],
 "metadata": {
  "kernelspec": {
   "display_name": "Python 3 (ipykernel)",
   "language": "python",
   "name": "python3"
  },
  "language_info": {
   "codemirror_mode": {
    "name": "ipython",
    "version": 3
   },
   "file_extension": ".py",
   "mimetype": "text/x-python",
   "name": "python",
   "nbconvert_exporter": "python",
   "pygments_lexer": "ipython3",
   "version": "3.11.5"
  }
 },
 "nbformat": 4,
 "nbformat_minor": 5
}
